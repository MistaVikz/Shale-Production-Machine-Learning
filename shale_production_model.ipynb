{
 "cells": [
  {
   "cell_type": "code",
   "execution_count": null,
   "id": "6d8d7c83",
   "metadata": {},
   "outputs": [
    {
     "name": "stdout",
     "output_type": "stream",
     "text": [
      "       Month  Rig count  Production per rig  Legacy production change  \\\n",
      "0 2007-01-01      176.0           20.586432                -526.40047   \n",
      "1 2007-02-01      180.0           21.442383                -878.11514   \n",
      "2 2007-03-01      166.0           22.204082               -1190.87670   \n",
      "3 2007-04-01      157.0           23.038566               -1532.55280   \n",
      "4 2007-05-01      170.0           23.851278               -1859.98780   \n",
      "\n",
      "   Total production  Production per rig.1  Legacy production change.1  \\\n",
      "0        126398.038            839.673011                  -110824.09   \n",
      "1        134177.221            846.669356                  -114100.20   \n",
      "2        137515.513            852.065758                  -117035.62   \n",
      "3        141462.841            856.971098                  -120253.62   \n",
      "4        144198.584            860.991992                  -123354.01   \n",
      "\n",
      "   Total production.1    region  \n",
      "0          4031234.67  Anadarko  \n",
      "1          4053324.71  Anadarko  \n",
      "2          4165395.70  Anadarko  \n",
      "3          4099955.76  Anadarko  \n",
      "4          4187912.80  Anadarko  \n",
      "<class 'pandas.core.frame.DataFrame'>\n",
      "Index: 1274 entries, 0 to 1285\n",
      "Data columns (total 9 columns):\n",
      " #   Column                      Non-Null Count  Dtype         \n",
      "---  ------                      --------------  -----         \n",
      " 0   Month                       1274 non-null   datetime64[ns]\n",
      " 1   Rig count                   1274 non-null   float64       \n",
      " 2   Production per rig          1274 non-null   float64       \n",
      " 3   Legacy production change    1274 non-null   float64       \n",
      " 4   Total production            1274 non-null   float64       \n",
      " 5   Production per rig.1        1274 non-null   float64       \n",
      " 6   Legacy production change.1  1274 non-null   float64       \n",
      " 7   Total production.1          1274 non-null   float64       \n",
      " 8   region                      1274 non-null   object        \n",
      "dtypes: datetime64[ns](1), float64(7), object(1)\n",
      "memory usage: 99.5+ KB\n",
      "None\n"
     ]
    }
   ],
   "source": [
    "import pandas as pd\n",
    "from sklearn.model_selection import train_test_split\n",
    "\n",
    "df = pd.read_excel('data/Shale Raw Data.xlsx', sheet_name='Raw Data', skiprows=1)\n",
    "df = df.dropna()\n",
    "\n",
    "print(df.head())\n",
    "print(df.info())"
   ]
  }
 ],
 "metadata": {
  "kernelspec": {
   "display_name": "floofyboots",
   "language": "python",
   "name": "python3"
  },
  "language_info": {
   "codemirror_mode": {
    "name": "ipython",
    "version": 3
   },
   "file_extension": ".py",
   "mimetype": "text/x-python",
   "name": "python",
   "nbconvert_exporter": "python",
   "pygments_lexer": "ipython3",
   "version": "3.12.4"
  }
 },
 "nbformat": 4,
 "nbformat_minor": 5
}
